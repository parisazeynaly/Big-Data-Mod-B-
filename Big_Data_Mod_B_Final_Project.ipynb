{
  "nbformat": 4,
  "nbformat_minor": 0,
  "metadata": {
    "colab": {
      "provenance": [],
      "include_colab_link": true
    },
    "kernelspec": {
      "name": "python3",
      "display_name": "Python 3"
    },
    "language_info": {
      "name": "python"
    }
  },
  "cells": [
    {
      "cell_type": "markdown",
      "metadata": {
        "id": "view-in-github",
        "colab_type": "text"
      },
      "source": [
        "<a href=\"https://colab.research.google.com/github/parisazeynaly/Big-Data-Mod-B-/blob/main/Big_Data_Mod_B_Final_Project.ipynb\" target=\"_parent\"><img src=\"https://colab.research.google.com/assets/colab-badge.svg\" alt=\"Open In Colab\"/></a>"
      ]
    },
    {
      "cell_type": "markdown",
      "source": [
        "**INITIALIZE KAGGLE**"
      ],
      "metadata": {
        "id": "gtH4DhknUE06"
      }
    },
    {
      "cell_type": "code",
      "execution_count": null,
      "metadata": {
        "colab": {
          "base_uri": "https://localhost:8080/"
        },
        "id": "KnUvCgXvWZLu",
        "outputId": "3faac234-c056-4ebc-8d2e-60ef70b70f5c"
      },
      "outputs": [
        {
          "output_type": "stream",
          "name": "stdout",
          "text": [
            "Requirement already satisfied: kaggle in /usr/local/lib/python3.10/dist-packages (1.6.14)\n",
            "Requirement already satisfied: six>=1.10 in /usr/local/lib/python3.10/dist-packages (from kaggle) (1.16.0)\n",
            "Requirement already satisfied: certifi>=2023.7.22 in /usr/local/lib/python3.10/dist-packages (from kaggle) (2024.6.2)\n",
            "Requirement already satisfied: python-dateutil in /usr/local/lib/python3.10/dist-packages (from kaggle) (2.8.2)\n",
            "Requirement already satisfied: requests in /usr/local/lib/python3.10/dist-packages (from kaggle) (2.31.0)\n",
            "Requirement already satisfied: tqdm in /usr/local/lib/python3.10/dist-packages (from kaggle) (4.66.4)\n",
            "Requirement already satisfied: python-slugify in /usr/local/lib/python3.10/dist-packages (from kaggle) (8.0.4)\n",
            "Requirement already satisfied: urllib3 in /usr/local/lib/python3.10/dist-packages (from kaggle) (2.0.7)\n",
            "Requirement already satisfied: bleach in /usr/local/lib/python3.10/dist-packages (from kaggle) (6.1.0)\n",
            "Requirement already satisfied: webencodings in /usr/local/lib/python3.10/dist-packages (from bleach->kaggle) (0.5.1)\n",
            "Requirement already satisfied: text-unidecode>=1.3 in /usr/local/lib/python3.10/dist-packages (from python-slugify->kaggle) (1.3)\n",
            "Requirement already satisfied: charset-normalizer<4,>=2 in /usr/local/lib/python3.10/dist-packages (from requests->kaggle) (3.3.2)\n",
            "Requirement already satisfied: idna<4,>=2.5 in /usr/local/lib/python3.10/dist-packages (from requests->kaggle) (3.7)\n",
            "Dataset URL: https://www.kaggle.com/datasets/junyiacademy/learning-activity-public-dataset-by-junyi-academy\n",
            "License(s): CC-BY-NC-SA-4.0\n",
            "Downloading learning-activity-public-dataset-by-junyi-academy.zip to /content\n",
            " 99% 1.49G/1.50G [00:17<00:00, 135MB/s]\n",
            "100% 1.50G/1.50G [00:17<00:00, 90.5MB/s]\n",
            "Archive:  learning-activity-public-dataset-by-junyi-academy.zip\n",
            "  inflating: Info_Content.csv        \n",
            "  inflating: Info_UserData.csv       \n",
            "  inflating: Log_Problem.csv         \n"
          ]
        }
      ],
      "source": [
        "!pip install kaggle\n",
        "!mkdir -p ~/.kaggle\n",
        "!kaggle datasets download -d junyiacademy/learning-activity-public-dataset-by-junyi-academy\n",
        "!unzip learning-activity-public-dataset-by-junyi-academy.zip\n",
        "import matplotlib.pyplot as plt\n"
      ]
    },
    {
      "cell_type": "code",
      "source": [
        "import plotly.graph_objects as go\n",
        "import plotly.offline as py\n",
        "import plotly.figure_factory as ff\n",
        "import pandas as pd # data processing, CSV file I/O (e.g. pd.read_csv)\n",
        "import plotly.graph_objects as go\n",
        "import plotly.offline as py\n",
        "import plotly.figure_factory as ff\n",
        "py.init_notebook_mode(connected=True)\n",
        "import matplotlib.pyplot as plt\n",
        "import seaborn as sns\n",
        "import plotly.express as px"
      ],
      "metadata": {
        "colab": {
          "base_uri": "https://localhost:8080/",
          "height": 17
        },
        "id": "3wawesFWeBgB",
        "outputId": "340b576f-1789-4d02-99f9-6b2892224abc"
      },
      "execution_count": null,
      "outputs": [
        {
          "output_type": "display_data",
          "data": {
            "text/html": [
              "        <script type=\"text/javascript\">\n",
              "        window.PlotlyConfig = {MathJaxConfig: 'local'};\n",
              "        if (window.MathJax && window.MathJax.Hub && window.MathJax.Hub.Config) {window.MathJax.Hub.Config({SVG: {font: \"STIX-Web\"}});}\n",
              "        if (typeof require !== 'undefined') {\n",
              "        require.undef(\"plotly\");\n",
              "        requirejs.config({\n",
              "            paths: {\n",
              "                'plotly': ['https://cdn.plot.ly/plotly-2.24.1.min']\n",
              "            }\n",
              "        });\n",
              "        require(['plotly'], function(Plotly) {\n",
              "            window._Plotly = Plotly;\n",
              "        });\n",
              "        }\n",
              "        </script>\n",
              "        "
            ]
          },
          "metadata": {}
        }
      ]
    },
    {
      "cell_type": "markdown",
      "source": [
        "**DATA LOAD AND PREPROCESSING**"
      ],
      "metadata": {
        "id": "jK_kB_jOUPSy"
      }
    },
    {
      "cell_type": "code",
      "source": [
        "import pandas as pd\n",
        "\n",
        "\n",
        "# Load datasets\n",
        "info_content = pd.read_csv('Info_Content.csv')\n",
        "df_InfoUser = pd.read_csv('Info_UserData.csv')\n",
        "log_problem = pd.read_csv('Log_Problem.csv')\n",
        "\n",
        "# Take a subset of the large dataset (0.5% of the data)\n",
        "log_problem_subset = log_problem.sample(frac=0.005, random_state=42)\n",
        "\n",
        "# Merge datasets\n",
        "merged_df = pd.merge(log_problem_subset, df_InfoUser, on='uuid')\n",
        "merged_df = pd.merge(merged_df, info_content, on='ucid')\n",
        "\n",
        "# Ensure the 'timestamp_TW' column is a datetime\n",
        "merged_df['timestamp_TW'] = pd.to_datetime(merged_df['timestamp_TW'])\n",
        "merged_df.dropna()\n"
      ],
      "metadata": {
        "id": "-y-ObumxXSt9",
        "colab": {
          "base_uri": "https://localhost:8080/",
          "height": 634
        },
        "outputId": "fd139475-754a-4d75-ccb0-16beea56719c"
      },
      "execution_count": null,
      "outputs": [
        {
          "output_type": "execute_result",
          "data": {
            "text/plain": [
              "                   timestamp_TW                                          uuid  \\\n",
              "3     2018-12-18 12:45:00+00:00  PgET+gUfzJZ6fe/6b90rV1ngOZiqUf7QFvBI8WaIDyU=   \n",
              "5     2018-12-10 17:30:00+00:00  txJ4/81b8GCKPI/KYuI0s43rVoehpxveFyGsz+E370Q=   \n",
              "18    2019-04-22 12:30:00+00:00  /Ugtnj00Fk3+Mf9hKJHGK9HFhqX4albCABK+turMeCs=   \n",
              "22    2018-12-20 13:00:00+00:00  6z1a3JthRYPh6hQ7y/p10jSrj3erDjU1InShnRdlbdw=   \n",
              "46    2018-12-18 09:45:00+00:00  ROYr3lIb586619DOxGYjJgxZcQPUZO+0gqN4Z8/z+OI=   \n",
              "...                         ...                                           ...   \n",
              "81011 2019-03-23 14:15:00+00:00  DE8gh9ot4/KcKHE2qu+LxPGJFIwCjO7rd0jxoyxCUFo=   \n",
              "81022 2018-10-14 10:30:00+00:00  Ar8+elYPKldySwRd6xXWaDwOMEVaNKYEPUBnHIkxYN8=   \n",
              "81045 2019-02-19 22:00:00+00:00  RUvN59+MCUHPAg8ofgBL4jbLWHcWkShr5zB9eW7K/U0=   \n",
              "81063 2019-07-15 15:00:00+00:00  MSjTqj7copEx4+D8/r62y3ySMW06Aynx79kEBf+l7gM=   \n",
              "81065 2018-10-24 11:45:00+00:00  oHjV2MxA5D4cbtD9fOOJH+skT5HhP+y882JCAaxf9Ng=   \n",
              "\n",
              "                                               ucid  \\\n",
              "3      GcuG2ukgxXmym9WSnWnlpKVNUFysZ8QfpAgpJMcheMU=   \n",
              "5      GcuG2ukgxXmym9WSnWnlpKVNUFysZ8QfpAgpJMcheMU=   \n",
              "18     GcuG2ukgxXmym9WSnWnlpKVNUFysZ8QfpAgpJMcheMU=   \n",
              "22     GcuG2ukgxXmym9WSnWnlpKVNUFysZ8QfpAgpJMcheMU=   \n",
              "46     GcuG2ukgxXmym9WSnWnlpKVNUFysZ8QfpAgpJMcheMU=   \n",
              "...                                             ...   \n",
              "81011  iKBGBnqxGTmSoOTXh8qB9HAkv4qV2ARDqyViICmf4+0=   \n",
              "81022  sSl0A9RyQ3LbuoNIUSeLVfCmVa0Zff2L9FNm8PQsrSI=   \n",
              "81045  Qfkdu0xMDo7ZKO14VkT7AmpqH0GnAvcprI5Fj+rC1u0=   \n",
              "81063  VoHrX2UnJ3IU2DdxSNj+Bbm9zCM0xLPSoYevLWFeGD8=   \n",
              "81065  VoHrX2UnJ3IU2DdxSNj+Bbm9zCM0xLPSoYevLWFeGD8=   \n",
              "\n",
              "                                               upid  problem_number  \\\n",
              "3      S/2tSGXF6x56ATKw1JMrt108g5ErYrETfxfVugSjZ8c=               6   \n",
              "5      4x9W9pHRc9s/udB870Eoe/0eSzAOWnNslymwrpzg6Tg=               6   \n",
              "18     /aU4HlS6Re/HFBzIgI48sFNlyawt602bYBAsX09NgUM=               7   \n",
              "22     OK2pt8shqQmdJYYp/zrujvlyuKtgVNKB/OyMx+H22R8=              20   \n",
              "46     OK2pt8shqQmdJYYp/zrujvlyuKtgVNKB/OyMx+H22R8=              12   \n",
              "...                                             ...             ...   \n",
              "81011  zX9tWF8c8uujR5EK5pwsCi9OH2Ok2o0xQ4MbgCs0oYw=             113   \n",
              "81022  SgmiDUB0Tuy6pjlAXhG0YLAohOLQxwHCJVJtXhwRbD8=               6   \n",
              "81045  vm48jh8QdFa0ywliLRUaDaUuMoYNygS8urgUA8YvAKI=              13   \n",
              "81063  i38W4K7BbcAsbZLmM4eLAq7wTmqX0MegR8fTpLc+RVw=               5   \n",
              "81065  7RyRNWR4RvFCXmlslTH0nG6GE4hrTMrOnihrAKS+DvU=               6   \n",
              "\n",
              "       exercise_problem_repeat_session  is_correct  total_sec_taken  \\\n",
              "3                                    1        True               21   \n",
              "5                                    1        True                9   \n",
              "18                                   1        True                5   \n",
              "22                                   2        True                8   \n",
              "46                                   1        True                7   \n",
              "...                                ...         ...              ...   \n",
              "81011                                5        True                4   \n",
              "81022                                1        True               37   \n",
              "81045                                1        True               57   \n",
              "81063                                1        True               10   \n",
              "81065                                1        True               45   \n",
              "\n",
              "       total_attempt_cnt  used_hint_cnt  ...  has_class_cnt  \\\n",
              "3                      1              0  ...              0   \n",
              "5                      1              0  ...              0   \n",
              "18                     1              0  ...              0   \n",
              "22                     1              0  ...              0   \n",
              "46                     1              0  ...              0   \n",
              "...                  ...            ...  ...            ...   \n",
              "81011                  1              0  ...              0   \n",
              "81022                  1              0  ...              1   \n",
              "81045                  1              0  ...              0   \n",
              "81063                  1              0  ...              0   \n",
              "81065                  1              0  ...              0   \n",
              "\n",
              "             content_pretty_name content_kind  difficulty subject  \\\n",
              "3                       【基礎】認識公斤     Exercise        easy    math   \n",
              "5                       【基礎】認識公斤     Exercise        easy    math   \n",
              "18                      【基礎】認識公斤     Exercise        easy    math   \n",
              "22                      【基礎】認識公斤     Exercise        easy    math   \n",
              "46                      【基礎】認識公斤     Exercise        easy    math   \n",
              "...                          ...          ...         ...     ...   \n",
              "81011  【基礎】二次函數圖形與兩軸的交點座標 - 即將下架     Exercise        easy    math   \n",
              "81022               【基礎】相似三角形之應用     Exercise        easy    math   \n",
              "81045        【基礎】分數的的加減混合計算：加減混合     Exercise        easy    math   \n",
              "81063                     圓的切線性質     Exercise       unset    math   \n",
              "81065                     圓的切線性質     Exercise       unset    math   \n",
              "\n",
              "       learning_stage                                     level1_id  \\\n",
              "3          elementary  aH0Dz0KdH9gio7rrcGRHvrmd9vcd/0WJbeEFB7qeUKA=   \n",
              "5          elementary  aH0Dz0KdH9gio7rrcGRHvrmd9vcd/0WJbeEFB7qeUKA=   \n",
              "18         elementary  aH0Dz0KdH9gio7rrcGRHvrmd9vcd/0WJbeEFB7qeUKA=   \n",
              "22         elementary  aH0Dz0KdH9gio7rrcGRHvrmd9vcd/0WJbeEFB7qeUKA=   \n",
              "46         elementary  aH0Dz0KdH9gio7rrcGRHvrmd9vcd/0WJbeEFB7qeUKA=   \n",
              "...               ...                                           ...   \n",
              "81011          junior  aH0Dz0KdH9gio7rrcGRHvrmd9vcd/0WJbeEFB7qeUKA=   \n",
              "81022          junior  aH0Dz0KdH9gio7rrcGRHvrmd9vcd/0WJbeEFB7qeUKA=   \n",
              "81045      elementary  aH0Dz0KdH9gio7rrcGRHvrmd9vcd/0WJbeEFB7qeUKA=   \n",
              "81063          junior  aH0Dz0KdH9gio7rrcGRHvrmd9vcd/0WJbeEFB7qeUKA=   \n",
              "81065          junior  aH0Dz0KdH9gio7rrcGRHvrmd9vcd/0WJbeEFB7qeUKA=   \n",
              "\n",
              "                                          level2_id  \\\n",
              "3      7f73q332BKPBXaixasa4EkUb+pF6VAsLxNIg4506JJs=   \n",
              "5      7f73q332BKPBXaixasa4EkUb+pF6VAsLxNIg4506JJs=   \n",
              "18     7f73q332BKPBXaixasa4EkUb+pF6VAsLxNIg4506JJs=   \n",
              "22     7f73q332BKPBXaixasa4EkUb+pF6VAsLxNIg4506JJs=   \n",
              "46     7f73q332BKPBXaixasa4EkUb+pF6VAsLxNIg4506JJs=   \n",
              "...                                             ...   \n",
              "81011  R81Sqc8LAYj8amTPwFRvoPgbGpdaZoQLNX0hTg0DMB4=   \n",
              "81022  MfUX4BrIuFzJjm97tCQVisXbonyvtYtwCUJo6JpmoyU=   \n",
              "81045  ICgke8JJv5eapCPwyj1aco8PEtoBkUbTZYIqxmYtqBk=   \n",
              "81063  MfUX4BrIuFzJjm97tCQVisXbonyvtYtwCUJo6JpmoyU=   \n",
              "81065  MfUX4BrIuFzJjm97tCQVisXbonyvtYtwCUJo6JpmoyU=   \n",
              "\n",
              "                                          level3_id  \\\n",
              "3      3fgcSGTzD9uuOjoB5R7onIyqBhvluj0aVuSIpMfqLdQ=   \n",
              "5      3fgcSGTzD9uuOjoB5R7onIyqBhvluj0aVuSIpMfqLdQ=   \n",
              "18     3fgcSGTzD9uuOjoB5R7onIyqBhvluj0aVuSIpMfqLdQ=   \n",
              "22     3fgcSGTzD9uuOjoB5R7onIyqBhvluj0aVuSIpMfqLdQ=   \n",
              "46     3fgcSGTzD9uuOjoB5R7onIyqBhvluj0aVuSIpMfqLdQ=   \n",
              "...                                             ...   \n",
              "81011  o91QgDqF3F9aBsG9Hkj9t4iSWIwpYTe35Qvzt6liOq4=   \n",
              "81022  1B4NV31TSyP4bLmP6zbniKc01IeroOFi4KeZVsvWr7o=   \n",
              "81045  4cISKCt3nXWe4r6Q8bzjOiL2EYYsZyT6Z0mNNJckqEc=   \n",
              "81063  APMXggE9pI1fpPhZYSwqSQGw/eQmPpLFBY7s9oBPWIk=   \n",
              "81065  APMXggE9pI1fpPhZYSwqSQGw/eQmPpLFBY7s9oBPWIk=   \n",
              "\n",
              "                                          level4_id  \n",
              "3      jLZ490t6hQgfXklhPDMsb0Mt2O/1Oh4bjzk/WCIuEDI=  \n",
              "5      jLZ490t6hQgfXklhPDMsb0Mt2O/1Oh4bjzk/WCIuEDI=  \n",
              "18     jLZ490t6hQgfXklhPDMsb0Mt2O/1Oh4bjzk/WCIuEDI=  \n",
              "22     jLZ490t6hQgfXklhPDMsb0Mt2O/1Oh4bjzk/WCIuEDI=  \n",
              "46     jLZ490t6hQgfXklhPDMsb0Mt2O/1Oh4bjzk/WCIuEDI=  \n",
              "...                                             ...  \n",
              "81011  831mgLaQG9ifGc08OfJ8PsSfxsFJL/hDqF7KJ1yqonQ=  \n",
              "81022  PH+Txe3kS8f/VX38X+o/OHiIyp/U6qbfbH7G5oC3RpQ=  \n",
              "81045  364ml6jwsO0pO5l86JBpC+KFYvYr7mn7S9gVuhoBnUE=  \n",
              "81063  OjEr2SRBJ+3UWodm3SSoEv8Ak4SYmFRUsvqb+RIo4wI=  \n",
              "81065  OjEr2SRBJ+3UWodm3SSoEv8Ak4SYmFRUsvqb+RIo4wI=  \n",
              "\n",
              "[6523 rows x 34 columns]"
            ],
            "text/html": [
              "\n",
              "  <div id=\"df-22cbae6c-e205-49d0-880b-446f1eb2dc5a\" class=\"colab-df-container\">\n",
              "    <div>\n",
              "<style scoped>\n",
              "    .dataframe tbody tr th:only-of-type {\n",
              "        vertical-align: middle;\n",
              "    }\n",
              "\n",
              "    .dataframe tbody tr th {\n",
              "        vertical-align: top;\n",
              "    }\n",
              "\n",
              "    .dataframe thead th {\n",
              "        text-align: right;\n",
              "    }\n",
              "</style>\n",
              "<table border=\"1\" class=\"dataframe\">\n",
              "  <thead>\n",
              "    <tr style=\"text-align: right;\">\n",
              "      <th></th>\n",
              "      <th>timestamp_TW</th>\n",
              "      <th>uuid</th>\n",
              "      <th>ucid</th>\n",
              "      <th>upid</th>\n",
              "      <th>problem_number</th>\n",
              "      <th>exercise_problem_repeat_session</th>\n",
              "      <th>is_correct</th>\n",
              "      <th>total_sec_taken</th>\n",
              "      <th>total_attempt_cnt</th>\n",
              "      <th>used_hint_cnt</th>\n",
              "      <th>...</th>\n",
              "      <th>has_class_cnt</th>\n",
              "      <th>content_pretty_name</th>\n",
              "      <th>content_kind</th>\n",
              "      <th>difficulty</th>\n",
              "      <th>subject</th>\n",
              "      <th>learning_stage</th>\n",
              "      <th>level1_id</th>\n",
              "      <th>level2_id</th>\n",
              "      <th>level3_id</th>\n",
              "      <th>level4_id</th>\n",
              "    </tr>\n",
              "  </thead>\n",
              "  <tbody>\n",
              "    <tr>\n",
              "      <th>3</th>\n",
              "      <td>2018-12-18 12:45:00+00:00</td>\n",
              "      <td>PgET+gUfzJZ6fe/6b90rV1ngOZiqUf7QFvBI8WaIDyU=</td>\n",
              "      <td>GcuG2ukgxXmym9WSnWnlpKVNUFysZ8QfpAgpJMcheMU=</td>\n",
              "      <td>S/2tSGXF6x56ATKw1JMrt108g5ErYrETfxfVugSjZ8c=</td>\n",
              "      <td>6</td>\n",
              "      <td>1</td>\n",
              "      <td>True</td>\n",
              "      <td>21</td>\n",
              "      <td>1</td>\n",
              "      <td>0</td>\n",
              "      <td>...</td>\n",
              "      <td>0</td>\n",
              "      <td>【基礎】認識公斤</td>\n",
              "      <td>Exercise</td>\n",
              "      <td>easy</td>\n",
              "      <td>math</td>\n",
              "      <td>elementary</td>\n",
              "      <td>aH0Dz0KdH9gio7rrcGRHvrmd9vcd/0WJbeEFB7qeUKA=</td>\n",
              "      <td>7f73q332BKPBXaixasa4EkUb+pF6VAsLxNIg4506JJs=</td>\n",
              "      <td>3fgcSGTzD9uuOjoB5R7onIyqBhvluj0aVuSIpMfqLdQ=</td>\n",
              "      <td>jLZ490t6hQgfXklhPDMsb0Mt2O/1Oh4bjzk/WCIuEDI=</td>\n",
              "    </tr>\n",
              "    <tr>\n",
              "      <th>5</th>\n",
              "      <td>2018-12-10 17:30:00+00:00</td>\n",
              "      <td>txJ4/81b8GCKPI/KYuI0s43rVoehpxveFyGsz+E370Q=</td>\n",
              "      <td>GcuG2ukgxXmym9WSnWnlpKVNUFysZ8QfpAgpJMcheMU=</td>\n",
              "      <td>4x9W9pHRc9s/udB870Eoe/0eSzAOWnNslymwrpzg6Tg=</td>\n",
              "      <td>6</td>\n",
              "      <td>1</td>\n",
              "      <td>True</td>\n",
              "      <td>9</td>\n",
              "      <td>1</td>\n",
              "      <td>0</td>\n",
              "      <td>...</td>\n",
              "      <td>0</td>\n",
              "      <td>【基礎】認識公斤</td>\n",
              "      <td>Exercise</td>\n",
              "      <td>easy</td>\n",
              "      <td>math</td>\n",
              "      <td>elementary</td>\n",
              "      <td>aH0Dz0KdH9gio7rrcGRHvrmd9vcd/0WJbeEFB7qeUKA=</td>\n",
              "      <td>7f73q332BKPBXaixasa4EkUb+pF6VAsLxNIg4506JJs=</td>\n",
              "      <td>3fgcSGTzD9uuOjoB5R7onIyqBhvluj0aVuSIpMfqLdQ=</td>\n",
              "      <td>jLZ490t6hQgfXklhPDMsb0Mt2O/1Oh4bjzk/WCIuEDI=</td>\n",
              "    </tr>\n",
              "    <tr>\n",
              "      <th>18</th>\n",
              "      <td>2019-04-22 12:30:00+00:00</td>\n",
              "      <td>/Ugtnj00Fk3+Mf9hKJHGK9HFhqX4albCABK+turMeCs=</td>\n",
              "      <td>GcuG2ukgxXmym9WSnWnlpKVNUFysZ8QfpAgpJMcheMU=</td>\n",
              "      <td>/aU4HlS6Re/HFBzIgI48sFNlyawt602bYBAsX09NgUM=</td>\n",
              "      <td>7</td>\n",
              "      <td>1</td>\n",
              "      <td>True</td>\n",
              "      <td>5</td>\n",
              "      <td>1</td>\n",
              "      <td>0</td>\n",
              "      <td>...</td>\n",
              "      <td>0</td>\n",
              "      <td>【基礎】認識公斤</td>\n",
              "      <td>Exercise</td>\n",
              "      <td>easy</td>\n",
              "      <td>math</td>\n",
              "      <td>elementary</td>\n",
              "      <td>aH0Dz0KdH9gio7rrcGRHvrmd9vcd/0WJbeEFB7qeUKA=</td>\n",
              "      <td>7f73q332BKPBXaixasa4EkUb+pF6VAsLxNIg4506JJs=</td>\n",
              "      <td>3fgcSGTzD9uuOjoB5R7onIyqBhvluj0aVuSIpMfqLdQ=</td>\n",
              "      <td>jLZ490t6hQgfXklhPDMsb0Mt2O/1Oh4bjzk/WCIuEDI=</td>\n",
              "    </tr>\n",
              "    <tr>\n",
              "      <th>22</th>\n",
              "      <td>2018-12-20 13:00:00+00:00</td>\n",
              "      <td>6z1a3JthRYPh6hQ7y/p10jSrj3erDjU1InShnRdlbdw=</td>\n",
              "      <td>GcuG2ukgxXmym9WSnWnlpKVNUFysZ8QfpAgpJMcheMU=</td>\n",
              "      <td>OK2pt8shqQmdJYYp/zrujvlyuKtgVNKB/OyMx+H22R8=</td>\n",
              "      <td>20</td>\n",
              "      <td>2</td>\n",
              "      <td>True</td>\n",
              "      <td>8</td>\n",
              "      <td>1</td>\n",
              "      <td>0</td>\n",
              "      <td>...</td>\n",
              "      <td>0</td>\n",
              "      <td>【基礎】認識公斤</td>\n",
              "      <td>Exercise</td>\n",
              "      <td>easy</td>\n",
              "      <td>math</td>\n",
              "      <td>elementary</td>\n",
              "      <td>aH0Dz0KdH9gio7rrcGRHvrmd9vcd/0WJbeEFB7qeUKA=</td>\n",
              "      <td>7f73q332BKPBXaixasa4EkUb+pF6VAsLxNIg4506JJs=</td>\n",
              "      <td>3fgcSGTzD9uuOjoB5R7onIyqBhvluj0aVuSIpMfqLdQ=</td>\n",
              "      <td>jLZ490t6hQgfXklhPDMsb0Mt2O/1Oh4bjzk/WCIuEDI=</td>\n",
              "    </tr>\n",
              "    <tr>\n",
              "      <th>46</th>\n",
              "      <td>2018-12-18 09:45:00+00:00</td>\n",
              "      <td>ROYr3lIb586619DOxGYjJgxZcQPUZO+0gqN4Z8/z+OI=</td>\n",
              "      <td>GcuG2ukgxXmym9WSnWnlpKVNUFysZ8QfpAgpJMcheMU=</td>\n",
              "      <td>OK2pt8shqQmdJYYp/zrujvlyuKtgVNKB/OyMx+H22R8=</td>\n",
              "      <td>12</td>\n",
              "      <td>1</td>\n",
              "      <td>True</td>\n",
              "      <td>7</td>\n",
              "      <td>1</td>\n",
              "      <td>0</td>\n",
              "      <td>...</td>\n",
              "      <td>0</td>\n",
              "      <td>【基礎】認識公斤</td>\n",
              "      <td>Exercise</td>\n",
              "      <td>easy</td>\n",
              "      <td>math</td>\n",
              "      <td>elementary</td>\n",
              "      <td>aH0Dz0KdH9gio7rrcGRHvrmd9vcd/0WJbeEFB7qeUKA=</td>\n",
              "      <td>7f73q332BKPBXaixasa4EkUb+pF6VAsLxNIg4506JJs=</td>\n",
              "      <td>3fgcSGTzD9uuOjoB5R7onIyqBhvluj0aVuSIpMfqLdQ=</td>\n",
              "      <td>jLZ490t6hQgfXklhPDMsb0Mt2O/1Oh4bjzk/WCIuEDI=</td>\n",
              "    </tr>\n",
              "    <tr>\n",
              "      <th>...</th>\n",
              "      <td>...</td>\n",
              "      <td>...</td>\n",
              "      <td>...</td>\n",
              "      <td>...</td>\n",
              "      <td>...</td>\n",
              "      <td>...</td>\n",
              "      <td>...</td>\n",
              "      <td>...</td>\n",
              "      <td>...</td>\n",
              "      <td>...</td>\n",
              "      <td>...</td>\n",
              "      <td>...</td>\n",
              "      <td>...</td>\n",
              "      <td>...</td>\n",
              "      <td>...</td>\n",
              "      <td>...</td>\n",
              "      <td>...</td>\n",
              "      <td>...</td>\n",
              "      <td>...</td>\n",
              "      <td>...</td>\n",
              "      <td>...</td>\n",
              "    </tr>\n",
              "    <tr>\n",
              "      <th>81011</th>\n",
              "      <td>2019-03-23 14:15:00+00:00</td>\n",
              "      <td>DE8gh9ot4/KcKHE2qu+LxPGJFIwCjO7rd0jxoyxCUFo=</td>\n",
              "      <td>iKBGBnqxGTmSoOTXh8qB9HAkv4qV2ARDqyViICmf4+0=</td>\n",
              "      <td>zX9tWF8c8uujR5EK5pwsCi9OH2Ok2o0xQ4MbgCs0oYw=</td>\n",
              "      <td>113</td>\n",
              "      <td>5</td>\n",
              "      <td>True</td>\n",
              "      <td>4</td>\n",
              "      <td>1</td>\n",
              "      <td>0</td>\n",
              "      <td>...</td>\n",
              "      <td>0</td>\n",
              "      <td>【基礎】二次函數圖形與兩軸的交點座標 - 即將下架</td>\n",
              "      <td>Exercise</td>\n",
              "      <td>easy</td>\n",
              "      <td>math</td>\n",
              "      <td>junior</td>\n",
              "      <td>aH0Dz0KdH9gio7rrcGRHvrmd9vcd/0WJbeEFB7qeUKA=</td>\n",
              "      <td>R81Sqc8LAYj8amTPwFRvoPgbGpdaZoQLNX0hTg0DMB4=</td>\n",
              "      <td>o91QgDqF3F9aBsG9Hkj9t4iSWIwpYTe35Qvzt6liOq4=</td>\n",
              "      <td>831mgLaQG9ifGc08OfJ8PsSfxsFJL/hDqF7KJ1yqonQ=</td>\n",
              "    </tr>\n",
              "    <tr>\n",
              "      <th>81022</th>\n",
              "      <td>2018-10-14 10:30:00+00:00</td>\n",
              "      <td>Ar8+elYPKldySwRd6xXWaDwOMEVaNKYEPUBnHIkxYN8=</td>\n",
              "      <td>sSl0A9RyQ3LbuoNIUSeLVfCmVa0Zff2L9FNm8PQsrSI=</td>\n",
              "      <td>SgmiDUB0Tuy6pjlAXhG0YLAohOLQxwHCJVJtXhwRbD8=</td>\n",
              "      <td>6</td>\n",
              "      <td>1</td>\n",
              "      <td>True</td>\n",
              "      <td>37</td>\n",
              "      <td>1</td>\n",
              "      <td>0</td>\n",
              "      <td>...</td>\n",
              "      <td>1</td>\n",
              "      <td>【基礎】相似三角形之應用</td>\n",
              "      <td>Exercise</td>\n",
              "      <td>easy</td>\n",
              "      <td>math</td>\n",
              "      <td>junior</td>\n",
              "      <td>aH0Dz0KdH9gio7rrcGRHvrmd9vcd/0WJbeEFB7qeUKA=</td>\n",
              "      <td>MfUX4BrIuFzJjm97tCQVisXbonyvtYtwCUJo6JpmoyU=</td>\n",
              "      <td>1B4NV31TSyP4bLmP6zbniKc01IeroOFi4KeZVsvWr7o=</td>\n",
              "      <td>PH+Txe3kS8f/VX38X+o/OHiIyp/U6qbfbH7G5oC3RpQ=</td>\n",
              "    </tr>\n",
              "    <tr>\n",
              "      <th>81045</th>\n",
              "      <td>2019-02-19 22:00:00+00:00</td>\n",
              "      <td>RUvN59+MCUHPAg8ofgBL4jbLWHcWkShr5zB9eW7K/U0=</td>\n",
              "      <td>Qfkdu0xMDo7ZKO14VkT7AmpqH0GnAvcprI5Fj+rC1u0=</td>\n",
              "      <td>vm48jh8QdFa0ywliLRUaDaUuMoYNygS8urgUA8YvAKI=</td>\n",
              "      <td>13</td>\n",
              "      <td>1</td>\n",
              "      <td>True</td>\n",
              "      <td>57</td>\n",
              "      <td>1</td>\n",
              "      <td>0</td>\n",
              "      <td>...</td>\n",
              "      <td>0</td>\n",
              "      <td>【基礎】分數的的加減混合計算：加減混合</td>\n",
              "      <td>Exercise</td>\n",
              "      <td>easy</td>\n",
              "      <td>math</td>\n",
              "      <td>elementary</td>\n",
              "      <td>aH0Dz0KdH9gio7rrcGRHvrmd9vcd/0WJbeEFB7qeUKA=</td>\n",
              "      <td>ICgke8JJv5eapCPwyj1aco8PEtoBkUbTZYIqxmYtqBk=</td>\n",
              "      <td>4cISKCt3nXWe4r6Q8bzjOiL2EYYsZyT6Z0mNNJckqEc=</td>\n",
              "      <td>364ml6jwsO0pO5l86JBpC+KFYvYr7mn7S9gVuhoBnUE=</td>\n",
              "    </tr>\n",
              "    <tr>\n",
              "      <th>81063</th>\n",
              "      <td>2019-07-15 15:00:00+00:00</td>\n",
              "      <td>MSjTqj7copEx4+D8/r62y3ySMW06Aynx79kEBf+l7gM=</td>\n",
              "      <td>VoHrX2UnJ3IU2DdxSNj+Bbm9zCM0xLPSoYevLWFeGD8=</td>\n",
              "      <td>i38W4K7BbcAsbZLmM4eLAq7wTmqX0MegR8fTpLc+RVw=</td>\n",
              "      <td>5</td>\n",
              "      <td>1</td>\n",
              "      <td>True</td>\n",
              "      <td>10</td>\n",
              "      <td>1</td>\n",
              "      <td>0</td>\n",
              "      <td>...</td>\n",
              "      <td>0</td>\n",
              "      <td>圓的切線性質</td>\n",
              "      <td>Exercise</td>\n",
              "      <td>unset</td>\n",
              "      <td>math</td>\n",
              "      <td>junior</td>\n",
              "      <td>aH0Dz0KdH9gio7rrcGRHvrmd9vcd/0WJbeEFB7qeUKA=</td>\n",
              "      <td>MfUX4BrIuFzJjm97tCQVisXbonyvtYtwCUJo6JpmoyU=</td>\n",
              "      <td>APMXggE9pI1fpPhZYSwqSQGw/eQmPpLFBY7s9oBPWIk=</td>\n",
              "      <td>OjEr2SRBJ+3UWodm3SSoEv8Ak4SYmFRUsvqb+RIo4wI=</td>\n",
              "    </tr>\n",
              "    <tr>\n",
              "      <th>81065</th>\n",
              "      <td>2018-10-24 11:45:00+00:00</td>\n",
              "      <td>oHjV2MxA5D4cbtD9fOOJH+skT5HhP+y882JCAaxf9Ng=</td>\n",
              "      <td>VoHrX2UnJ3IU2DdxSNj+Bbm9zCM0xLPSoYevLWFeGD8=</td>\n",
              "      <td>7RyRNWR4RvFCXmlslTH0nG6GE4hrTMrOnihrAKS+DvU=</td>\n",
              "      <td>6</td>\n",
              "      <td>1</td>\n",
              "      <td>True</td>\n",
              "      <td>45</td>\n",
              "      <td>1</td>\n",
              "      <td>0</td>\n",
              "      <td>...</td>\n",
              "      <td>0</td>\n",
              "      <td>圓的切線性質</td>\n",
              "      <td>Exercise</td>\n",
              "      <td>unset</td>\n",
              "      <td>math</td>\n",
              "      <td>junior</td>\n",
              "      <td>aH0Dz0KdH9gio7rrcGRHvrmd9vcd/0WJbeEFB7qeUKA=</td>\n",
              "      <td>MfUX4BrIuFzJjm97tCQVisXbonyvtYtwCUJo6JpmoyU=</td>\n",
              "      <td>APMXggE9pI1fpPhZYSwqSQGw/eQmPpLFBY7s9oBPWIk=</td>\n",
              "      <td>OjEr2SRBJ+3UWodm3SSoEv8Ak4SYmFRUsvqb+RIo4wI=</td>\n",
              "    </tr>\n",
              "  </tbody>\n",
              "</table>\n",
              "<p>6523 rows × 34 columns</p>\n",
              "</div>\n",
              "    <div class=\"colab-df-buttons\">\n",
              "\n",
              "  <div class=\"colab-df-container\">\n",
              "    <button class=\"colab-df-convert\" onclick=\"convertToInteractive('df-22cbae6c-e205-49d0-880b-446f1eb2dc5a')\"\n",
              "            title=\"Convert this dataframe to an interactive table.\"\n",
              "            style=\"display:none;\">\n",
              "\n",
              "  <svg xmlns=\"http://www.w3.org/2000/svg\" height=\"24px\" viewBox=\"0 -960 960 960\">\n",
              "    <path d=\"M120-120v-720h720v720H120Zm60-500h600v-160H180v160Zm220 220h160v-160H400v160Zm0 220h160v-160H400v160ZM180-400h160v-160H180v160Zm440 0h160v-160H620v160ZM180-180h160v-160H180v160Zm440 0h160v-160H620v160Z\"/>\n",
              "  </svg>\n",
              "    </button>\n",
              "\n",
              "  <style>\n",
              "    .colab-df-container {\n",
              "      display:flex;\n",
              "      gap: 12px;\n",
              "    }\n",
              "\n",
              "    .colab-df-convert {\n",
              "      background-color: #E8F0FE;\n",
              "      border: none;\n",
              "      border-radius: 50%;\n",
              "      cursor: pointer;\n",
              "      display: none;\n",
              "      fill: #1967D2;\n",
              "      height: 32px;\n",
              "      padding: 0 0 0 0;\n",
              "      width: 32px;\n",
              "    }\n",
              "\n",
              "    .colab-df-convert:hover {\n",
              "      background-color: #E2EBFA;\n",
              "      box-shadow: 0px 1px 2px rgba(60, 64, 67, 0.3), 0px 1px 3px 1px rgba(60, 64, 67, 0.15);\n",
              "      fill: #174EA6;\n",
              "    }\n",
              "\n",
              "    .colab-df-buttons div {\n",
              "      margin-bottom: 4px;\n",
              "    }\n",
              "\n",
              "    [theme=dark] .colab-df-convert {\n",
              "      background-color: #3B4455;\n",
              "      fill: #D2E3FC;\n",
              "    }\n",
              "\n",
              "    [theme=dark] .colab-df-convert:hover {\n",
              "      background-color: #434B5C;\n",
              "      box-shadow: 0px 1px 3px 1px rgba(0, 0, 0, 0.15);\n",
              "      filter: drop-shadow(0px 1px 2px rgba(0, 0, 0, 0.3));\n",
              "      fill: #FFFFFF;\n",
              "    }\n",
              "  </style>\n",
              "\n",
              "    <script>\n",
              "      const buttonEl =\n",
              "        document.querySelector('#df-22cbae6c-e205-49d0-880b-446f1eb2dc5a button.colab-df-convert');\n",
              "      buttonEl.style.display =\n",
              "        google.colab.kernel.accessAllowed ? 'block' : 'none';\n",
              "\n",
              "      async function convertToInteractive(key) {\n",
              "        const element = document.querySelector('#df-22cbae6c-e205-49d0-880b-446f1eb2dc5a');\n",
              "        const dataTable =\n",
              "          await google.colab.kernel.invokeFunction('convertToInteractive',\n",
              "                                                    [key], {});\n",
              "        if (!dataTable) return;\n",
              "\n",
              "        const docLinkHtml = 'Like what you see? Visit the ' +\n",
              "          '<a target=\"_blank\" href=https://colab.research.google.com/notebooks/data_table.ipynb>data table notebook</a>'\n",
              "          + ' to learn more about interactive tables.';\n",
              "        element.innerHTML = '';\n",
              "        dataTable['output_type'] = 'display_data';\n",
              "        await google.colab.output.renderOutput(dataTable, element);\n",
              "        const docLink = document.createElement('div');\n",
              "        docLink.innerHTML = docLinkHtml;\n",
              "        element.appendChild(docLink);\n",
              "      }\n",
              "    </script>\n",
              "  </div>\n",
              "\n",
              "\n",
              "<div id=\"df-b798e3be-dde3-4fb4-945d-2ef35a1d4760\">\n",
              "  <button class=\"colab-df-quickchart\" onclick=\"quickchart('df-b798e3be-dde3-4fb4-945d-2ef35a1d4760')\"\n",
              "            title=\"Suggest charts\"\n",
              "            style=\"display:none;\">\n",
              "\n",
              "<svg xmlns=\"http://www.w3.org/2000/svg\" height=\"24px\"viewBox=\"0 0 24 24\"\n",
              "     width=\"24px\">\n",
              "    <g>\n",
              "        <path d=\"M19 3H5c-1.1 0-2 .9-2 2v14c0 1.1.9 2 2 2h14c1.1 0 2-.9 2-2V5c0-1.1-.9-2-2-2zM9 17H7v-7h2v7zm4 0h-2V7h2v10zm4 0h-2v-4h2v4z\"/>\n",
              "    </g>\n",
              "</svg>\n",
              "  </button>\n",
              "\n",
              "<style>\n",
              "  .colab-df-quickchart {\n",
              "      --bg-color: #E8F0FE;\n",
              "      --fill-color: #1967D2;\n",
              "      --hover-bg-color: #E2EBFA;\n",
              "      --hover-fill-color: #174EA6;\n",
              "      --disabled-fill-color: #AAA;\n",
              "      --disabled-bg-color: #DDD;\n",
              "  }\n",
              "\n",
              "  [theme=dark] .colab-df-quickchart {\n",
              "      --bg-color: #3B4455;\n",
              "      --fill-color: #D2E3FC;\n",
              "      --hover-bg-color: #434B5C;\n",
              "      --hover-fill-color: #FFFFFF;\n",
              "      --disabled-bg-color: #3B4455;\n",
              "      --disabled-fill-color: #666;\n",
              "  }\n",
              "\n",
              "  .colab-df-quickchart {\n",
              "    background-color: var(--bg-color);\n",
              "    border: none;\n",
              "    border-radius: 50%;\n",
              "    cursor: pointer;\n",
              "    display: none;\n",
              "    fill: var(--fill-color);\n",
              "    height: 32px;\n",
              "    padding: 0;\n",
              "    width: 32px;\n",
              "  }\n",
              "\n",
              "  .colab-df-quickchart:hover {\n",
              "    background-color: var(--hover-bg-color);\n",
              "    box-shadow: 0 1px 2px rgba(60, 64, 67, 0.3), 0 1px 3px 1px rgba(60, 64, 67, 0.15);\n",
              "    fill: var(--button-hover-fill-color);\n",
              "  }\n",
              "\n",
              "  .colab-df-quickchart-complete:disabled,\n",
              "  .colab-df-quickchart-complete:disabled:hover {\n",
              "    background-color: var(--disabled-bg-color);\n",
              "    fill: var(--disabled-fill-color);\n",
              "    box-shadow: none;\n",
              "  }\n",
              "\n",
              "  .colab-df-spinner {\n",
              "    border: 2px solid var(--fill-color);\n",
              "    border-color: transparent;\n",
              "    border-bottom-color: var(--fill-color);\n",
              "    animation:\n",
              "      spin 1s steps(1) infinite;\n",
              "  }\n",
              "\n",
              "  @keyframes spin {\n",
              "    0% {\n",
              "      border-color: transparent;\n",
              "      border-bottom-color: var(--fill-color);\n",
              "      border-left-color: var(--fill-color);\n",
              "    }\n",
              "    20% {\n",
              "      border-color: transparent;\n",
              "      border-left-color: var(--fill-color);\n",
              "      border-top-color: var(--fill-color);\n",
              "    }\n",
              "    30% {\n",
              "      border-color: transparent;\n",
              "      border-left-color: var(--fill-color);\n",
              "      border-top-color: var(--fill-color);\n",
              "      border-right-color: var(--fill-color);\n",
              "    }\n",
              "    40% {\n",
              "      border-color: transparent;\n",
              "      border-right-color: var(--fill-color);\n",
              "      border-top-color: var(--fill-color);\n",
              "    }\n",
              "    60% {\n",
              "      border-color: transparent;\n",
              "      border-right-color: var(--fill-color);\n",
              "    }\n",
              "    80% {\n",
              "      border-color: transparent;\n",
              "      border-right-color: var(--fill-color);\n",
              "      border-bottom-color: var(--fill-color);\n",
              "    }\n",
              "    90% {\n",
              "      border-color: transparent;\n",
              "      border-bottom-color: var(--fill-color);\n",
              "    }\n",
              "  }\n",
              "</style>\n",
              "\n",
              "  <script>\n",
              "    async function quickchart(key) {\n",
              "      const quickchartButtonEl =\n",
              "        document.querySelector('#' + key + ' button');\n",
              "      quickchartButtonEl.disabled = true;  // To prevent multiple clicks.\n",
              "      quickchartButtonEl.classList.add('colab-df-spinner');\n",
              "      try {\n",
              "        const charts = await google.colab.kernel.invokeFunction(\n",
              "            'suggestCharts', [key], {});\n",
              "      } catch (error) {\n",
              "        console.error('Error during call to suggestCharts:', error);\n",
              "      }\n",
              "      quickchartButtonEl.classList.remove('colab-df-spinner');\n",
              "      quickchartButtonEl.classList.add('colab-df-quickchart-complete');\n",
              "    }\n",
              "    (() => {\n",
              "      let quickchartButtonEl =\n",
              "        document.querySelector('#df-b798e3be-dde3-4fb4-945d-2ef35a1d4760 button');\n",
              "      quickchartButtonEl.style.display =\n",
              "        google.colab.kernel.accessAllowed ? 'block' : 'none';\n",
              "    })();\n",
              "  </script>\n",
              "</div>\n",
              "\n",
              "    </div>\n",
              "  </div>\n"
            ],
            "application/vnd.google.colaboratory.intrinsic+json": {
              "type": "dataframe"
            }
          },
          "metadata": {},
          "execution_count": 3
        }
      ]
    },
    {
      "cell_type": "markdown",
      "source": [
        "* FEATURE SELECTION"
      ],
      "metadata": {
        "id": "p7QBWzvjlyZz"
      }
    },
    {
      "cell_type": "code",
      "source": [
        "# Display the first few rows of each dataset\n",
        "print(\"User Data:\")\n",
        "print(df_user_data.head())\n",
        "print(\"\\nLog Problem Data:\")\n",
        "print(df_log_problem.head())\n",
        "print(\"\\nInfo Content Data:\")\n",
        "print(df_info_content.head())"
      ],
      "metadata": {
        "id": "9h2NSmoply7X",
        "colab": {
          "base_uri": "https://localhost:8080/",
          "height": 228
        },
        "outputId": "561fa5ac-e1c1-4e31-86ad-f96eda95df08"
      },
      "execution_count": null,
      "outputs": [
        {
          "output_type": "stream",
          "name": "stdout",
          "text": [
            "User Data:\n"
          ]
        },
        {
          "output_type": "error",
          "ename": "NameError",
          "evalue": "name 'df_user_data' is not defined",
          "traceback": [
            "\u001b[0;31m---------------------------------------------------------------------------\u001b[0m",
            "\u001b[0;31mNameError\u001b[0m                                 Traceback (most recent call last)",
            "\u001b[0;32m<ipython-input-4-8d9848ea23eb>\u001b[0m in \u001b[0;36m<cell line: 3>\u001b[0;34m()\u001b[0m\n\u001b[1;32m      1\u001b[0m \u001b[0;31m# Display the first few rows of each dataset\u001b[0m\u001b[0;34m\u001b[0m\u001b[0;34m\u001b[0m\u001b[0m\n\u001b[1;32m      2\u001b[0m \u001b[0mprint\u001b[0m\u001b[0;34m(\u001b[0m\u001b[0;34m\"User Data:\"\u001b[0m\u001b[0;34m)\u001b[0m\u001b[0;34m\u001b[0m\u001b[0;34m\u001b[0m\u001b[0m\n\u001b[0;32m----> 3\u001b[0;31m \u001b[0mprint\u001b[0m\u001b[0;34m(\u001b[0m\u001b[0mdf_user_data\u001b[0m\u001b[0;34m.\u001b[0m\u001b[0mhead\u001b[0m\u001b[0;34m(\u001b[0m\u001b[0;34m)\u001b[0m\u001b[0;34m)\u001b[0m\u001b[0;34m\u001b[0m\u001b[0;34m\u001b[0m\u001b[0m\n\u001b[0m\u001b[1;32m      4\u001b[0m \u001b[0mprint\u001b[0m\u001b[0;34m(\u001b[0m\u001b[0;34m\"\\nLog Problem Data:\"\u001b[0m\u001b[0;34m)\u001b[0m\u001b[0;34m\u001b[0m\u001b[0;34m\u001b[0m\u001b[0m\n\u001b[1;32m      5\u001b[0m \u001b[0mprint\u001b[0m\u001b[0;34m(\u001b[0m\u001b[0mdf_log_problem\u001b[0m\u001b[0;34m.\u001b[0m\u001b[0mhead\u001b[0m\u001b[0;34m(\u001b[0m\u001b[0;34m)\u001b[0m\u001b[0;34m)\u001b[0m\u001b[0;34m\u001b[0m\u001b[0;34m\u001b[0m\u001b[0m\n",
            "\u001b[0;31mNameError\u001b[0m: name 'df_user_data' is not defined"
          ]
        }
      ]
    },
    {
      "cell_type": "markdown",
      "source": [
        "# **DATA VISUALIZATION**"
      ],
      "metadata": {
        "id": "e3El4-L4mxqf"
      }
    },
    {
      "cell_type": "code",
      "source": [],
      "metadata": {
        "id": "pJU4fwGnnh3s"
      },
      "execution_count": null,
      "outputs": []
    },
    {
      "source": [
        "# @title badges_cnt\n",
        "\n",
        "from matplotlib import pyplot as plt\n",
        "X['badges_cnt'].plot(kind='hist', bins=20, title='badges_cnt')\n",
        "plt.gca().spines[['top', 'right',]].set_visible(False)"
      ],
      "cell_type": "code",
      "execution_count": null,
      "outputs": [],
      "metadata": {
        "id": "bgHBdA5bokkN"
      }
    },
    {
      "cell_type": "code",
      "source": [
        "# @title points vs badges_cnt\n",
        "\n",
        "from matplotlib import pyplot as plt\n",
        "X.plot(kind='scatter', x='points', y='badges_cnt', s=32, alpha=.8)\n",
        "plt.gca().spines[['top', 'right',]].set_visible(False)"
      ],
      "metadata": {
        "id": "NWE4gN6Hooxu"
      },
      "execution_count": null,
      "outputs": []
    },
    {
      "source": [
        "# @title user_grade\n",
        "\n",
        "from matplotlib import pyplot as plt\n",
        "X['user_grade'].plot(kind='hist', bins=20, title='user_grade')\n",
        "plt.gca().spines[['top', 'right',]].set_visible(False)"
      ],
      "cell_type": "code",
      "execution_count": null,
      "outputs": [],
      "metadata": {
        "id": "Rao9PtKfoeZA"
      }
    },
    {
      "cell_type": "code",
      "source": [
        "# Select students from grade 1 to grade 6\n",
        "df_elem = df_InfoUser[(df_InfoUser['user_grade'] > 0) & (df_InfoUser['user_grade'] < 7)]\n",
        "df_elem.describe()"
      ],
      "metadata": {
        "id": "6T7okOszqSkB"
      },
      "execution_count": null,
      "outputs": []
    },
    {
      "cell_type": "code",
      "source": [
        "plt.plot(df_elem['points'].sort_values().reset_index(drop=True))\n",
        "\n",
        "plt.title('Distribution of energy points for students in elementary school', fontsize=16)\n",
        "plt.xlim((1, 50000))\n",
        "plt.xlabel('Student sorted by energy point count', fontsize=10)\n",
        "plt.ylim((0, 4100000))\n",
        "plt.ylabel('Energy points', fontsize=10)\n",
        "plt.grid()\n",
        "\n",
        "plt.show()"
      ],
      "metadata": {
        "id": "MvCR55eGqa6F"
      },
      "execution_count": null,
      "outputs": []
    },
    {
      "cell_type": "code",
      "source": [
        "df_InfoUser = df_InfoUser.fillna('-1')\n",
        "count_each_gender = df_InfoUser['gender'].value_counts()\n",
        "count_each_gender"
      ],
      "metadata": {
        "id": "uyhq4_ETADOs"
      },
      "execution_count": null,
      "outputs": []
    },
    {
      "cell_type": "code",
      "source": [
        "plt.title('Number of users per gender')\n",
        "plt.bar(count_each_gender.index, count_each_gender.values)\n",
        "plt.show()"
      ],
      "metadata": {
        "id": "QJ4USwMO_b9f"
      },
      "execution_count": null,
      "outputs": []
    },
    {
      "cell_type": "code",
      "source": [
        "plt.plot(df_elem['points'].sort_values().reset_index(drop=True))\n",
        "\n",
        "plt.title('Distribution of energy points for students in elementary school', fontsize=16)\n",
        "plt.xlim((1, 50000))\n",
        "plt.xlabel('Student sorted by energy point count', fontsize=10)\n",
        "plt.ylim((0, 4100000))\n",
        "plt.ylabel('Energy points', fontsize=10)\n",
        "plt.grid()\n",
        "\n",
        "plt.show()"
      ],
      "metadata": {
        "id": "6z5z2GIi_zZK"
      },
      "execution_count": null,
      "outputs": []
    },
    {
      "cell_type": "markdown",
      "source": [
        "#DATA SPLIT"
      ],
      "metadata": {
        "id": "9ORHMvoPCGil"
      }
    },
    {
      "cell_type": "code",
      "source": [
        "import numpy as np\n",
        "import tensorflow as tf\n",
        "from sklearn.model_selection import train_test_split\n",
        "from tensorflow.keras.models import Sequential\n",
        "from tensorflow.keras.layers import Dense, Dropout\n",
        "from sklearn.metrics import mean_squared_error, mean_absolute_error\n",
        "\n",
        "X_train, X_test, y_train, y_test = train_test_split(X, y, test_size = 0.2, random_state = 42)\n",
        "\n",
        "X_train = X_train.values.astype(np.float32)\n",
        "X_test = X_test.values.astype(np.float32)"
      ],
      "metadata": {
        "id": "1Z1_wXXyCWtT"
      },
      "execution_count": null,
      "outputs": []
    },
    {
      "cell_type": "markdown",
      "source": [
        " DEEP LEARNING ARCHITECTURE"
      ],
      "metadata": {
        "id": "y49ZcayAD1fM"
      }
    },
    {
      "cell_type": "code",
      "source": [],
      "metadata": {
        "id": "uPt1qS2ZCF0l"
      },
      "execution_count": null,
      "outputs": []
    },
    {
      "cell_type": "code",
      "execution_count": null,
      "metadata": {
        "id": "mtUVj4Xs4pbb"
      },
      "outputs": [],
      "source": [
        "# Define the model architecture\n",
        "model = Sequential([\n",
        "    Dense(64, input_dim=X_train.shape[1], activation='relu'),\n",
        "    Dropout(0.2),  # Dropout layer to prevent overfitting\n",
        "    Dense(32, activation='relu'),\n",
        "    Dropout(0.2),  # Dropout layer to prevent overfitting\n",
        "    Dense(1, activation='linear')\n",
        "])\n",
        "\n",
        "# Compile the model with appropriate optimizer and loss function for your task\n",
        "model.compile(optimizer='adam', loss='mean_squared_error', metrics=['mean_absolute_error'])\n",
        "\n",
        "# Print model summary to review the architecture and parameters\n",
        "model.summary()\n",
        "\n",
        "# Train the model\n",
        "history = model.fit(X_train, y_train, epochs=20, batch_size=100)\n",
        "\n",
        "# Evaluate the model on test data (if available)\n",
        "# Assuming X_test_dropout, y_test_dropout are prepared similarly\n",
        "# Convert y_test_dropout to numpy array with float32\n",
        "# y_test_dropout = np.array(y_test_dropout).astype(np.float32)\n",
        "# loss, metric = model_dropout.evaluate(X_test_dropout.astype(np.float32), y_test_dropout)\n",
        "\n",
        "# Make predictions and evaluate the model as needed\n",
        "y_pred_dropout = model.predict(X_test)\n",
        "mse = mean_squared_error(y_test, y_pred_dropout)\n",
        "mae = mean_absolute_error(y_test, y_pred_dropout)\n",
        "print(\"Test: \")\n",
        "print(f\"\\tMean Squared Error (MSE): {mse:.2f}\")\n",
        "print(f\"\\tMean Absolute Error (MAE): {mae:.2f}\")\n"
      ]
    },
    {
      "cell_type": "markdown",
      "source": [
        "MSE AND LOSS VISUALIZATION"
      ],
      "metadata": {
        "id": "AARECsQtD_uy"
      }
    },
    {
      "cell_type": "code",
      "source": [
        "train_mse = history.history['mean_absolute_error']\n",
        "train_loss = history.history['loss']"
      ],
      "metadata": {
        "id": "RbfC5PAcD-3x"
      },
      "execution_count": null,
      "outputs": []
    },
    {
      "cell_type": "code",
      "source": [
        "import matplotlib.pyplot as plt\n",
        "\n",
        "epochs = range(1, len(train_mse) + 1)\n",
        "\n",
        "# Plot MSE vs epochs\n",
        "plt.plot(epochs, train_mse, label='Training MSE')\n",
        "plt.title('Training Mean Squared Error')\n",
        "plt.xlabel('Epochs')\n",
        "plt.ylabel('MSE')\n",
        "plt.legend()\n",
        "plt.show()"
      ],
      "metadata": {
        "id": "WNGPVBe6EFCH"
      },
      "execution_count": null,
      "outputs": []
    },
    {
      "cell_type": "code",
      "source": [
        "# Plot Loss vs epochs\n",
        "plt.plot(epochs, train_loss, label='Training Loss')\n",
        "plt.title('Training Loss')\n",
        "plt.xlabel('Epochs')\n",
        "plt.ylabel('Loss')\n",
        "plt.legend()\n",
        "plt.show()"
      ],
      "metadata": {
        "id": "Fjo-SAQKEIIE"
      },
      "execution_count": null,
      "outputs": []
    },
    {
      "cell_type": "code",
      "source": [
        "print('Total number of users:', len(df_InfoUser))"
      ],
      "metadata": {
        "id": "SLqDw8vgct7M"
      },
      "execution_count": null,
      "outputs": []
    },
    {
      "cell_type": "code",
      "source": [
        "# df_InfoUser = df_InfoUser.fillna('-1')\n",
        "# count_each_gender = df_InfoUser['gender'].value_counts()\n",
        "# count_each_gender"
      ],
      "metadata": {
        "id": "PPf0LtxYA7hJ"
      },
      "execution_count": null,
      "outputs": []
    },
    {
      "cell_type": "code",
      "source": [
        "# plt.title('Number of users per gender')\n",
        "# plt.bar(count_each_gender.index, count_each_gender.values)\n",
        "# plt.show()"
      ],
      "metadata": {
        "id": "RHieJ6sPderG"
      },
      "execution_count": null,
      "outputs": []
    },
    {
      "cell_type": "code",
      "source": [
        "df_InfoUser.first_login_date_TW.describe()"
      ],
      "metadata": {
        "id": "sM2hsf-qWxGn"
      },
      "execution_count": null,
      "outputs": []
    },
    {
      "cell_type": "code",
      "source": [
        "# Create a copy of the original df\n",
        "\n",
        "df_copy = df_InfoUser.copy()"
      ],
      "metadata": {
        "id": "NlM05uCGZxcJ"
      },
      "execution_count": null,
      "outputs": []
    },
    {
      "cell_type": "code",
      "source": [
        "pd.to_datetime(df_copy.first_login_date_TW, dayfirst = True) # we have firt day then month , by default is first the month"
      ],
      "metadata": {
        "id": "e7hdWL2nZ8bw"
      },
      "execution_count": null,
      "outputs": []
    },
    {
      "cell_type": "code",
      "source": [
        "df_copy.first_login_date_TW = pd.to_datetime(df_copy.first_login_date_TW ,dayfirst=True)\n",
        "df_copy.first_login_date_TW.describe()"
      ],
      "metadata": {
        "id": "LrODshc6aaAS"
      },
      "execution_count": null,
      "outputs": []
    },
    {
      "cell_type": "code",
      "source": [
        "# First way  to format properly a dataframe with datetime for Time series analysis\n",
        "\n",
        "df_copy.index = df_copy.first_login_date_TW\n",
        "\n",
        "df_copy = df_copy.drop([\"first_login_date_TW\"],axis = 1)"
      ],
      "metadata": {
        "id": "5NmkIMUcar_R"
      },
      "execution_count": null,
      "outputs": []
    },
    {
      "cell_type": "code",
      "source": [
        "df_copy.head(1)"
      ],
      "metadata": {
        "id": "ul4fRKOya9EF"
      },
      "execution_count": null,
      "outputs": []
    },
    {
      "source": [
        "# @title points vs badges_cnt\n",
        "\n",
        "from matplotlib import pyplot as plt\n",
        "df_copy.plot(kind='scatter', x='points', y='badges_cnt', s=32, alpha=.8)\n",
        "plt.gca().spines[['top', 'right',]].set_visible(False)"
      ],
      "cell_type": "code",
      "execution_count": null,
      "outputs": [],
      "metadata": {
        "id": "JRlZ0lrUbh2u"
      }
    },
    {
      "cell_type": "code",
      "source": [
        "# # Select students from grade 1 to grade 6\n",
        "# df_elem = df_InfoUser[(df_InfoUser['user_grade'] > 0) & (df_InfoUser['user_grade'] < 7)]\n",
        "# df_elem.describe()"
      ],
      "metadata": {
        "id": "9AXwOvsmpf1i"
      },
      "execution_count": null,
      "outputs": []
    },
    {
      "cell_type": "code",
      "source": [
        "# plt.plot(df_elem['points'].sort_values().reset_index(drop=True))\n",
        "\n",
        "# plt.title('Distribution of energy points for students in elementary school', fontsize=16)\n",
        "# plt.xlim((1, 50000))\n",
        "# plt.xlabel('Student sorted by energy point count', fontsize=10)\n",
        "# plt.ylim((0, 4100000))\n",
        "# plt.ylabel('Energy points', fontsize=10)\n",
        "# plt.grid()\n",
        "\n",
        "# plt.show()"
      ],
      "metadata": {
        "id": "OH4s3MJho3Yv"
      },
      "execution_count": null,
      "outputs": []
    },
    {
      "cell_type": "code",
      "source": [
        "#second way\n",
        "df_copy = df_InfoUser.copy()\n"
      ],
      "metadata": {
        "id": "_EiAYLCAbqPR"
      },
      "execution_count": null,
      "outputs": []
    },
    {
      "cell_type": "code",
      "source": [
        "df_copy.set_index(['first_login_date_TW'] , inplace =True)\n",
        "df_copy"
      ],
      "metadata": {
        "id": "XzqFiKQwcVuT"
      },
      "execution_count": null,
      "outputs": []
    },
    {
      "cell_type": "code",
      "source": [
        "df_copy.first_login_date_TW\t.describe()"
      ],
      "metadata": {
        "id": "F7-Sm2HzaNyC"
      },
      "execution_count": null,
      "outputs": []
    },
    {
      "cell_type": "code",
      "source": [
        "# Business days\n",
        "\n",
        "df_copy = df_InfoUser.asfreq('b')\n",
        "\n",
        "df_copy.head()\n"
      ],
      "metadata": {
        "id": "T76Pud6HeNPY"
      },
      "execution_count": null,
      "outputs": []
    },
    {
      "cell_type": "code",
      "source": [
        "df_copy = df_copy.asfreq(\"d\")   # daily frequencies\n",
        "\n",
        "df_copy.isna().sum()            # Those are all holidays , right ?"
      ],
      "metadata": {
        "id": "on-nKSxd_KC3"
      },
      "execution_count": null,
      "outputs": []
    },
    {
      "cell_type": "code",
      "source": [
        "df_copy_TW = df_InfoUser.first_login_date_TW.fillna(method = \"ffill\")\n",
        "df_copy_TW          # Those are all holidays , right ?"
      ],
      "metadata": {
        "id": "gyRrovFr_hLW"
      },
      "execution_count": null,
      "outputs": []
    },
    {
      "cell_type": "markdown",
      "source": [
        "fill the null value for info user data set\n"
      ],
      "metadata": {
        "id": "uTCqnaEDQMGw"
      }
    },
    {
      "cell_type": "code",
      "source": [
        "df_copy_TW.fillna(method = \"ffill\")\n",
        "df_copy_TW"
      ],
      "metadata": {
        "id": "nrbdekxoPyzv"
      },
      "execution_count": null,
      "outputs": []
    },
    {
      "cell_type": "code",
      "source": [],
      "metadata": {
        "id": "6av7EeM5Qdrd"
      },
      "execution_count": null,
      "outputs": []
    },
    {
      "cell_type": "code",
      "source": [
        "df_InfoUser.describe()"
      ],
      "metadata": {
        "id": "bGyhGfhrgpI4"
      },
      "execution_count": null,
      "outputs": []
    },
    {
      "cell_type": "code",
      "source": [
        "df_InfoUser = df_InfoUser.fillna('-1')\n",
        "count_each_gender = df_InfoUser['gender'].value_counts()\n",
        "count_each_gender"
      ],
      "metadata": {
        "id": "npJ-_P57kX-s"
      },
      "execution_count": null,
      "outputs": []
    },
    {
      "cell_type": "code",
      "source": [
        "# Select students from grade 1 to grade 6\n",
        "df_elem = df_InfoUser[(df_InfoUser['user_grade'] > 0) & (df_InfoUser['user_grade'] < 7)]\n",
        "df_elem.describe()"
      ],
      "metadata": {
        "id": "QOhbN4WGlBCO"
      },
      "execution_count": null,
      "outputs": []
    },
    {
      "cell_type": "code",
      "source": [
        "# plt.plot(df_elem['points'].sort_values().reset_index(drop=True))\n",
        "\n",
        "# plt.title('Distribution of energy points for students in elementary school', fontsize=16)\n",
        "# plt.xlim((1, 50000))\n",
        "# plt.xlabel('Student sorted by energy point count', fontsize=10)\n",
        "# plt.ylim((0, 4100000))\n",
        "# plt.ylabel('Energy points', fontsize=10)\n",
        "# plt.grid()\n",
        "\n",
        "# plt.show()"
      ],
      "metadata": {
        "id": "g69UeyRqnBAS"
      },
      "execution_count": null,
      "outputs": []
    },
    {
      "cell_type": "code",
      "source": [
        "# Select students from grade 1 to grade 6\n",
        "df_elem = df_InfoUser[(df_InfoUser['user_grade'] > 0) & (df_InfoUser['user_grade'] < 7)]\n",
        "df_elem.describe()"
      ],
      "metadata": {
        "id": "6jLrv9PKcbh1"
      },
      "execution_count": null,
      "outputs": []
    },
    {
      "cell_type": "code",
      "source": [
        "# Check for NaN values\n",
        "print(f'The null values of the dataframes are : {info_content.isna().sum()}')\n",
        "\n",
        "\n",
        "\n",
        "print(\"\\nor in a more tedious way : \\n\")\n",
        "\n",
        "#check specific column\n",
        "\n",
        "print(f' difficulty null values : {info_content.difficulty.isna().sum()}')\n",
        "print(f' ucid null values : {info_content.ucid.isna().sum()}')\n",
        "print(f' learning_stage null values : {info_content.learning_stage.isna().sum()}')"
      ],
      "metadata": {
        "id": "axtwrTbudgwK"
      },
      "execution_count": null,
      "outputs": []
    },
    {
      "cell_type": "code",
      "source": [
        "fig = go.Figure(data=[go.Scatter(\n",
        "    x=info_content['content_pretty_name'][0:10],\n",
        "    y=info_content['difficulty'][0:10],\n",
        "    mode='markers',\n",
        "    marker=dict(\n",
        "        color=[145, 140, 135, 130, 125, 120,115,110,105,100],\n",
        "        size=[100, 90, 70, 60, 60, 60,50,50,40,35],\n",
        "        showscale=True\n",
        "        )\n",
        ")])\n",
        "fig.update_layout(\n",
        "    title='Junyi Academy learning activity',\n",
        "    xaxis_title=\"Content Pretty Name\",\n",
        "    yaxis_title=\"Difficulty\",\n",
        ")\n",
        "fig.show()"
      ],
      "metadata": {
        "id": "8UJMtpKanTfO"
      },
      "execution_count": null,
      "outputs": []
    },
    {
      "cell_type": "code",
      "source": [
        "fig = px.bar(info_content,\n",
        "             y='difficulty',\n",
        "             x='content_pretty_name',\n",
        "             orientation='h',\n",
        "             color='subject',\n",
        "             title='Junyi Academy learning activity',\n",
        "             opacity=0.8,\n",
        "             color_discrete_sequence=px.colors.diverging.Armyrose,\n",
        "             template='plotly_dark'\n",
        "            )\n",
        "fig.update_xaxes(range=[0,35])\n",
        "fig.show()"
      ],
      "metadata": {
        "id": "rzuNuxOBn684"
      },
      "execution_count": null,
      "outputs": []
    },
    {
      "cell_type": "code",
      "source": [
        "fig = px.bar(info_content,\n",
        "             y='difficulty',\n",
        "             x='content_pretty_name',\n",
        "             orientation='h',\n",
        "             color='subject',\n",
        "             title='Junyi Academy learning activity',\n",
        "             opacity=0.8,\n",
        "             color_discrete_sequence=px.colors.diverging.Armyrose,\n",
        "             template='plotly_dark'\n",
        "            )\n",
        "fig.update_xaxes(range=[0,35])\n",
        "fig.show()"
      ],
      "metadata": {
        "id": "F4b2U-ogozdF"
      },
      "execution_count": null,
      "outputs": []
    },
    {
      "cell_type": "code",
      "source": [
        "cnt_srs = info_content['difficulty'].value_counts().head()\n",
        "trace = go.Bar(\n",
        "    y=cnt_srs.index[::-1],\n",
        "    x=cnt_srs.values[::-1],\n",
        "    orientation = 'h',\n",
        "    marker=dict(\n",
        "        color=cnt_srs.values[::-1],\n",
        "        colorscale = 'viridis',\n",
        "        reversescale = True\n",
        "    ),\n",
        ")\n",
        "\n",
        "layout = dict(\n",
        "    title='Junyi Academy learning activity',\n",
        "    )\n",
        "data = [trace]\n",
        "fig = go.Figure(data=data, layout=layout)\n",
        "py.iplot(fig, filename=\"difficulty\")"
      ],
      "metadata": {
        "id": "Sg4O0zmUpSRn"
      },
      "execution_count": null,
      "outputs": []
    },
    {
      "cell_type": "markdown",
      "source": [
        "Info-userData"
      ],
      "metadata": {
        "id": "ulewS8Vnwlyd"
      }
    },
    {
      "cell_type": "markdown",
      "source": [],
      "metadata": {
        "id": "R_p_prM6wlsK"
      }
    },
    {
      "cell_type": "code",
      "source": [
        "print('Total number of users:', len(df_InfoUser))"
      ],
      "metadata": {
        "id": "JDFIAx8nwq0Y"
      },
      "execution_count": null,
      "outputs": []
    },
    {
      "cell_type": "code",
      "source": [
        "import scipy.stats\n",
        "import pylab"
      ],
      "metadata": {
        "id": "55P0Uzd8w5ab"
      },
      "execution_count": null,
      "outputs": []
    },
    {
      "cell_type": "code",
      "source": [
        "info_content['learning_stage'].value_counts()"
      ],
      "metadata": {
        "id": "qUX9WjhHxhtp"
      },
      "execution_count": null,
      "outputs": []
    },
    {
      "cell_type": "markdown",
      "source": [
        "The distribution of difficulty of exercises.¶\n"
      ],
      "metadata": {
        "id": "nrDL3G2bzev-"
      }
    },
    {
      "cell_type": "code",
      "source": [
        "diff_count = info_content['difficulty'].value_counts()"
      ],
      "metadata": {
        "id": "v0PgrkubzcGU"
      },
      "execution_count": null,
      "outputs": []
    },
    {
      "cell_type": "code",
      "source": [
        "plt.bar(x=diff_count.index, height=diff_count)\n",
        "\n",
        "plt.ylim((0, 900))\n",
        "plt.title('Distribution of Difficulty',fontsize=16)\n",
        "plt.xlabel('Difficulty', fontsize=10)\n",
        "plt.ylabel('Problem count', fontsize=10)\n",
        "\n",
        "plt.show()"
      ],
      "metadata": {
        "id": "nATKZpt2ztFY"
      },
      "execution_count": null,
      "outputs": []
    },
    {
      "cell_type": "markdown",
      "source": [],
      "metadata": {
        "id": "VklI6BVgz4_H"
      }
    },
    {
      "cell_type": "code",
      "source": [
        "df_Problem_Content = log_problem[['ucid', 'is_correct']].merge(info_content[['ucid', 'difficulty']], how='inner', left_on='ucid', right_on='ucid')\n",
        "\n",
        "# We remove the content with difficulty unset for now\n",
        "df_Problem_Content = df_Problem_Content[df_Problem_Content['difficulty'] != 'unset']\n",
        "\n",
        "df_Problem_Content = df_Problem_Content.groupby(['difficulty', 'is_correct']).size().unstack(level=-1)\n",
        "df_Problem_Content['correct_rate'] = df_Problem_Content[True] / (df_Problem_Content[True] + df_Problem_Content[False])\n",
        "\n",
        "df_Problem_Content.sort_values(by=['correct_rate'], ascending=False)"
      ],
      "metadata": {
        "id": "ClhdJEYYz5Ys"
      },
      "execution_count": null,
      "outputs": []
    },
    {
      "cell_type": "markdown",
      "source": [],
      "metadata": {
        "id": "u6snvQ_22MH1"
      }
    },
    {
      "cell_type": "code",
      "source": [
        "# Randomly pick an exercise\n",
        "df_userreturn = df_LogProblem[df_LogProblem['ucid'] == \"CPI+5YCeEmhqdk6znJeii6jJUNl1QWGEvwCUJ6uLflg=\"][['timestamp_TW','uuid']].sort_values(by=['timestamp_TW'])"
      ],
      "metadata": {
        "id": "kRrnMKT72DxM"
      },
      "execution_count": null,
      "outputs": []
    }
  ]
}